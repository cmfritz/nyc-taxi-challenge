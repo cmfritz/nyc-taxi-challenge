{
 "cells": [
  {
   "cell_type": "markdown",
   "metadata": {},
   "source": [
    "### Analyzing the Data\n",
    "To pick up where I left off is my last notebook, I will start by loading in the table of files I created."
   ]
  },
  {
   "cell_type": "code",
   "execution_count": 1,
   "metadata": {},
   "outputs": [],
   "source": [
    "import pandas as pd"
   ]
  },
  {
   "cell_type": "code",
   "execution_count": 2,
   "metadata": {},
   "outputs": [
    {
     "data": {
      "text/html": [
       "<div>\n",
       "<style scoped>\n",
       "    .dataframe tbody tr th:only-of-type {\n",
       "        vertical-align: middle;\n",
       "    }\n",
       "\n",
       "    .dataframe tbody tr th {\n",
       "        vertical-align: top;\n",
       "    }\n",
       "\n",
       "    .dataframe thead th {\n",
       "        text-align: right;\n",
       "    }\n",
       "</style>\n",
       "<table border=\"1\" class=\"dataframe\">\n",
       "  <thead>\n",
       "    <tr style=\"text-align: right;\">\n",
       "      <th></th>\n",
       "      <th>source</th>\n",
       "      <th>month</th>\n",
       "      <th>year</th>\n",
       "      <th>url</th>\n",
       "      <th>filename</th>\n",
       "    </tr>\n",
       "  </thead>\n",
       "  <tbody>\n",
       "    <tr>\n",
       "      <th>0</th>\n",
       "      <td>yellow</td>\n",
       "      <td>01</td>\n",
       "      <td>2021</td>\n",
       "      <td>https://s3.amazonaws.com/nyc-tlc/trip+data/yel...</td>\n",
       "      <td>yellow-2021-01.csv</td>\n",
       "    </tr>\n",
       "    <tr>\n",
       "      <th>1</th>\n",
       "      <td>green</td>\n",
       "      <td>01</td>\n",
       "      <td>2021</td>\n",
       "      <td>https://s3.amazonaws.com/nyc-tlc/trip+data/gre...</td>\n",
       "      <td>green-2021-01.csv</td>\n",
       "    </tr>\n",
       "    <tr>\n",
       "      <th>2</th>\n",
       "      <td>fhv</td>\n",
       "      <td>01</td>\n",
       "      <td>2021</td>\n",
       "      <td>https://nyc-tlc.s3.amazonaws.com/trip+data/fhv...</td>\n",
       "      <td>fhv-2021-01.csv</td>\n",
       "    </tr>\n",
       "    <tr>\n",
       "      <th>3</th>\n",
       "      <td>fhvhv</td>\n",
       "      <td>01</td>\n",
       "      <td>2021</td>\n",
       "      <td>https://nyc-tlc.s3.amazonaws.com/trip+data/fhv...</td>\n",
       "      <td>fhvhv-2021-01.csv</td>\n",
       "    </tr>\n",
       "    <tr>\n",
       "      <th>4</th>\n",
       "      <td>yellow</td>\n",
       "      <td>02</td>\n",
       "      <td>2021</td>\n",
       "      <td>https://s3.amazonaws.com/nyc-tlc/trip+data/yel...</td>\n",
       "      <td>yellow-2021-02.csv</td>\n",
       "    </tr>\n",
       "  </tbody>\n",
       "</table>\n",
       "</div>"
      ],
      "text/plain": [
       "   source month  year                                                url  \\\n",
       "0  yellow    01  2021  https://s3.amazonaws.com/nyc-tlc/trip+data/yel...   \n",
       "1   green    01  2021  https://s3.amazonaws.com/nyc-tlc/trip+data/gre...   \n",
       "2     fhv    01  2021  https://nyc-tlc.s3.amazonaws.com/trip+data/fhv...   \n",
       "3   fhvhv    01  2021  https://nyc-tlc.s3.amazonaws.com/trip+data/fhv...   \n",
       "4  yellow    02  2021  https://s3.amazonaws.com/nyc-tlc/trip+data/yel...   \n",
       "\n",
       "             filename  \n",
       "0  yellow-2021-01.csv  \n",
       "1   green-2021-01.csv  \n",
       "2     fhv-2021-01.csv  \n",
       "3   fhvhv-2021-01.csv  \n",
       "4  yellow-2021-02.csv  "
      ]
     },
     "execution_count": 2,
     "metadata": {},
     "output_type": "execute_result"
    }
   ],
   "source": [
    "# Get files for 2017 to present\n",
    "file_info = pd.read_csv('file_info.csv', dtype='str')\n",
    "file_info = file_info[file_info['year'] >= '2017']\n",
    "file_info.head()"
   ]
  },
  {
   "cell_type": "markdown",
   "metadata": {},
   "source": [
    "#### Exploring Data for Yellow Cabs\n",
    "I wanted to get a sense of the data I was working with before processing it in large batches, so I did a little exploring with the first file downloaded, which was for yellow cab's January 2021."
   ]
  },
  {
   "cell_type": "code",
   "execution_count": 3,
   "metadata": {},
   "outputs": [],
   "source": [
    "yellow_cab = pd.read_csv('data/'+\n",
    "                         file_info[file_info['source']=='yellow']['filename'][0], \n",
    "                         low_memory=False)"
   ]
  },
  {
   "cell_type": "code",
   "execution_count": 4,
   "metadata": {},
   "outputs": [
    {
     "name": "stdout",
     "output_type": "stream",
     "text": [
      "<class 'pandas.core.frame.DataFrame'>\n",
      "RangeIndex: 1369765 entries, 0 to 1369764\n",
      "Data columns (total 18 columns):\n",
      "VendorID                 1271413 non-null float64\n",
      "tpep_pickup_datetime     1369765 non-null object\n",
      "tpep_dropoff_datetime    1369765 non-null object\n",
      "passenger_count          1271413 non-null float64\n",
      "trip_distance            1369765 non-null float64\n",
      "RatecodeID               1271413 non-null float64\n",
      "store_and_fwd_flag       1271413 non-null object\n",
      "PULocationID             1369765 non-null int64\n",
      "DOLocationID             1369765 non-null int64\n",
      "payment_type             1271413 non-null float64\n",
      "fare_amount              1369765 non-null float64\n",
      "extra                    1369765 non-null float64\n",
      "mta_tax                  1369765 non-null float64\n",
      "tip_amount               1369765 non-null float64\n",
      "tolls_amount             1369765 non-null float64\n",
      "improvement_surcharge    1369765 non-null float64\n",
      "total_amount             1369765 non-null float64\n",
      "congestion_surcharge     1369765 non-null float64\n",
      "dtypes: float64(13), int64(2), object(3)\n",
      "memory usage: 188.1+ MB\n"
     ]
    }
   ],
   "source": [
    "yellow_cab.info()"
   ]
  },
  {
   "cell_type": "markdown",
   "metadata": {},
   "source": [
    "Let's take a look at the most and least expensive trip:"
   ]
  },
  {
   "cell_type": "code",
   "execution_count": 5,
   "metadata": {},
   "outputs": [
    {
     "data": {
      "text/plain": [
       "7661.28"
      ]
     },
     "execution_count": 5,
     "metadata": {},
     "output_type": "execute_result"
    }
   ],
   "source": [
    "# Most expensive trip\n",
    "max_fare = yellow_cab['total_amount'].max()\n",
    "max_fare"
   ]
  },
  {
   "cell_type": "markdown",
   "metadata": {},
   "source": [
    "Now I want to find out what zones ths was between, so I will use the zone lookup table."
   ]
  },
  {
   "cell_type": "code",
   "execution_count": 6,
   "metadata": {},
   "outputs": [],
   "source": [
    "# Load zone lookup table\n",
    "zones = pd.read_csv('https://s3.amazonaws.com/nyc-tlc/misc/taxi+_zone_lookup.csv')"
   ]
  },
  {
   "cell_type": "code",
   "execution_count": 7,
   "metadata": {},
   "outputs": [
    {
     "name": "stdout",
     "output_type": "stream",
     "text": [
      "The most expensive fare of $7661.28 was between Lenox Hill West and Upper East Side South.\n"
     ]
    }
   ],
   "source": [
    "# Find the index of the max fare, and then lookup the zones, and then the borough\n",
    "index = yellow_cab['total_amount'].idxmax()\n",
    "PULocationID = yellow_cab.iloc[index]['PULocationID']\n",
    "DOLocationID = yellow_cab.iloc[index]['DOLocationID']\n",
    "PU_zone_name = zones.loc[PULocationID]['Zone']\n",
    "DO_zone_name = zones.loc[DOLocationID]['Zone']\n",
    "print(f'The most expensive fare of ${max_fare:.2f} was between {PU_zone_name} and {DO_zone_name}.')"
   ]
  },
  {
   "cell_type": "markdown",
   "metadata": {},
   "source": [
    "Now I want to determine the least expensive trip."
   ]
  },
  {
   "cell_type": "code",
   "execution_count": 8,
   "metadata": {},
   "outputs": [
    {
     "data": {
      "text/plain": [
       "-492.8"
      ]
     },
     "execution_count": 8,
     "metadata": {},
     "output_type": "execute_result"
    }
   ],
   "source": [
    "# Least expensive trip\n",
    "yellow_cab['total_amount'].min()"
   ]
  },
  {
   "cell_type": "markdown",
   "metadata": {},
   "source": [
    "While the most expensive trip is a bit shocking, the minimum trip is problematic. This data contains plenty of data on refunds, so I will need to filter out some of the data. Looking at [Taxi Fares](https://www1.nyc.gov/site/tlc/passengers/taxi-fare.page), it looks like the minimum fare is $2.50, so I will filter out fares less than this."
   ]
  },
  {
   "cell_type": "code",
   "execution_count": 9,
   "metadata": {},
   "outputs": [
    {
     "name": "stdout",
     "output_type": "stream",
     "text": [
      "The least expensive fare of $2.50 was between Upper East Side South and Upper East Side South.\n"
     ]
    }
   ],
   "source": [
    "# Now to find the minimum fare and see the zones.\n",
    "min_fare = yellow_cab[yellow_cab['total_amount'] >= 2.5]['total_amount'].min()\n",
    "index = yellow_cab['total_amount'].idxmin()\n",
    "PULocationID = yellow_cab.iloc[index]['PULocationID']\n",
    "DOLocationID = yellow_cab.iloc[index]['DOLocationID']\n",
    "PU_zone_name = zones.loc[PULocationID]['Zone']\n",
    "DO_zone_name = zones.loc[DOLocationID]['Zone']\n",
    "print(f'The least expensive fare of ${min_fare:.2f} was between {PU_zone_name} and {DO_zone_name}.')"
   ]
  },
  {
   "cell_type": "markdown",
   "metadata": {},
   "source": [
    "Now that I have the range of fares I want to look at, I will calculate the total fares for this month's data. This will be useful later when looking at the trends of the fares over time."
   ]
  },
  {
   "cell_type": "code",
   "execution_count": 10,
   "metadata": {},
   "outputs": [
    {
     "name": "stdout",
     "output_type": "stream",
     "text": [
      "Fares for the month total $23,935,806.\n"
     ]
    }
   ],
   "source": [
    "# Calculate the sum of the fares, include refunds this time too since it matters for month's total.\n",
    "sum_fares = yellow_cab['total_amount'].sum()\n",
    "print(f'Fares for the month total ${sum_fares:,.0f}.')"
   ]
  },
  {
   "cell_type": "markdown",
   "metadata": {},
   "source": [
    "Now I want to look at the most popular payment method. Looking at the [Data Dictionary](https://www1.nyc.gov/assets/tlc/downloads/pdf/data_dictionary_trip_records_yellow.pdf) for the Yellow Cabs, it looks like the payment types are:\n",
    "1. Credit card\n",
    "2. Cash\n",
    "3. No charge\n",
    "4. Dispute\n",
    "5. Unknown\n",
    "6. Voided trip\n",
    "I will look at credit cards and cash only, since types 3-6 are not actual trips."
   ]
  },
  {
   "cell_type": "code",
   "execution_count": 11,
   "metadata": {},
   "outputs": [
    {
     "name": "stdout",
     "output_type": "stream",
     "text": [
      "There were 934,473 credit card and 322,889 cash transactions this month.\n"
     ]
    }
   ],
   "source": [
    "# Filter for payment types 1 and 2 and then count each\n",
    "no_ccs = yellow_cab[yellow_cab['payment_type']==1]['payment_type'].count()\n",
    "no_cash = yellow_cab[yellow_cab['payment_type']==2]['payment_type'].count()\n",
    "print(f'There were {no_ccs:,.0f} credit card and {no_cash:,.0f} cash transactions this month.')"
   ]
  },
  {
   "cell_type": "markdown",
   "metadata": {},
   "source": [
    "Credit card was about 3 times more popular than cash. \n",
    "\n",
    "Now let's look at the most expensive days to travel. First, I want to tag each trip with the day of the week."
   ]
  },
  {
   "cell_type": "code",
   "execution_count": 12,
   "metadata": {},
   "outputs": [
    {
     "data": {
      "text/html": [
       "<div>\n",
       "<style scoped>\n",
       "    .dataframe tbody tr th:only-of-type {\n",
       "        vertical-align: middle;\n",
       "    }\n",
       "\n",
       "    .dataframe tbody tr th {\n",
       "        vertical-align: top;\n",
       "    }\n",
       "\n",
       "    .dataframe thead th {\n",
       "        text-align: right;\n",
       "    }\n",
       "</style>\n",
       "<table border=\"1\" class=\"dataframe\">\n",
       "  <thead>\n",
       "    <tr style=\"text-align: right;\">\n",
       "      <th></th>\n",
       "      <th>VendorID</th>\n",
       "      <th>tpep_pickup_datetime</th>\n",
       "      <th>tpep_dropoff_datetime</th>\n",
       "      <th>passenger_count</th>\n",
       "      <th>trip_distance</th>\n",
       "      <th>RatecodeID</th>\n",
       "      <th>store_and_fwd_flag</th>\n",
       "      <th>PULocationID</th>\n",
       "      <th>DOLocationID</th>\n",
       "      <th>payment_type</th>\n",
       "      <th>fare_amount</th>\n",
       "      <th>extra</th>\n",
       "      <th>mta_tax</th>\n",
       "      <th>tip_amount</th>\n",
       "      <th>tolls_amount</th>\n",
       "      <th>improvement_surcharge</th>\n",
       "      <th>total_amount</th>\n",
       "      <th>congestion_surcharge</th>\n",
       "      <th>day</th>\n",
       "    </tr>\n",
       "  </thead>\n",
       "  <tbody>\n",
       "    <tr>\n",
       "      <th>0</th>\n",
       "      <td>1.0</td>\n",
       "      <td>2021-01-01 00:30:10</td>\n",
       "      <td>2021-01-01 00:36:12</td>\n",
       "      <td>1.0</td>\n",
       "      <td>2.10</td>\n",
       "      <td>1.0</td>\n",
       "      <td>N</td>\n",
       "      <td>142</td>\n",
       "      <td>43</td>\n",
       "      <td>2.0</td>\n",
       "      <td>8.0</td>\n",
       "      <td>3.0</td>\n",
       "      <td>0.5</td>\n",
       "      <td>0.00</td>\n",
       "      <td>0.0</td>\n",
       "      <td>0.3</td>\n",
       "      <td>11.80</td>\n",
       "      <td>2.5</td>\n",
       "      <td>Fri</td>\n",
       "    </tr>\n",
       "    <tr>\n",
       "      <th>1</th>\n",
       "      <td>1.0</td>\n",
       "      <td>2021-01-01 00:51:20</td>\n",
       "      <td>2021-01-01 00:52:19</td>\n",
       "      <td>1.0</td>\n",
       "      <td>0.20</td>\n",
       "      <td>1.0</td>\n",
       "      <td>N</td>\n",
       "      <td>238</td>\n",
       "      <td>151</td>\n",
       "      <td>2.0</td>\n",
       "      <td>3.0</td>\n",
       "      <td>0.5</td>\n",
       "      <td>0.5</td>\n",
       "      <td>0.00</td>\n",
       "      <td>0.0</td>\n",
       "      <td>0.3</td>\n",
       "      <td>4.30</td>\n",
       "      <td>0.0</td>\n",
       "      <td>Fri</td>\n",
       "    </tr>\n",
       "    <tr>\n",
       "      <th>2</th>\n",
       "      <td>1.0</td>\n",
       "      <td>2021-01-01 00:43:30</td>\n",
       "      <td>2021-01-01 01:11:06</td>\n",
       "      <td>1.0</td>\n",
       "      <td>14.70</td>\n",
       "      <td>1.0</td>\n",
       "      <td>N</td>\n",
       "      <td>132</td>\n",
       "      <td>165</td>\n",
       "      <td>1.0</td>\n",
       "      <td>42.0</td>\n",
       "      <td>0.5</td>\n",
       "      <td>0.5</td>\n",
       "      <td>8.65</td>\n",
       "      <td>0.0</td>\n",
       "      <td>0.3</td>\n",
       "      <td>51.95</td>\n",
       "      <td>0.0</td>\n",
       "      <td>Fri</td>\n",
       "    </tr>\n",
       "    <tr>\n",
       "      <th>3</th>\n",
       "      <td>1.0</td>\n",
       "      <td>2021-01-01 00:15:48</td>\n",
       "      <td>2021-01-01 00:31:01</td>\n",
       "      <td>0.0</td>\n",
       "      <td>10.60</td>\n",
       "      <td>1.0</td>\n",
       "      <td>N</td>\n",
       "      <td>138</td>\n",
       "      <td>132</td>\n",
       "      <td>1.0</td>\n",
       "      <td>29.0</td>\n",
       "      <td>0.5</td>\n",
       "      <td>0.5</td>\n",
       "      <td>6.05</td>\n",
       "      <td>0.0</td>\n",
       "      <td>0.3</td>\n",
       "      <td>36.35</td>\n",
       "      <td>0.0</td>\n",
       "      <td>Fri</td>\n",
       "    </tr>\n",
       "    <tr>\n",
       "      <th>4</th>\n",
       "      <td>2.0</td>\n",
       "      <td>2021-01-01 00:31:49</td>\n",
       "      <td>2021-01-01 00:48:21</td>\n",
       "      <td>1.0</td>\n",
       "      <td>4.94</td>\n",
       "      <td>1.0</td>\n",
       "      <td>N</td>\n",
       "      <td>68</td>\n",
       "      <td>33</td>\n",
       "      <td>1.0</td>\n",
       "      <td>16.5</td>\n",
       "      <td>0.5</td>\n",
       "      <td>0.5</td>\n",
       "      <td>4.06</td>\n",
       "      <td>0.0</td>\n",
       "      <td>0.3</td>\n",
       "      <td>24.36</td>\n",
       "      <td>2.5</td>\n",
       "      <td>Fri</td>\n",
       "    </tr>\n",
       "  </tbody>\n",
       "</table>\n",
       "</div>"
      ],
      "text/plain": [
       "   VendorID tpep_pickup_datetime tpep_dropoff_datetime  passenger_count  \\\n",
       "0       1.0  2021-01-01 00:30:10   2021-01-01 00:36:12              1.0   \n",
       "1       1.0  2021-01-01 00:51:20   2021-01-01 00:52:19              1.0   \n",
       "2       1.0  2021-01-01 00:43:30   2021-01-01 01:11:06              1.0   \n",
       "3       1.0  2021-01-01 00:15:48   2021-01-01 00:31:01              0.0   \n",
       "4       2.0  2021-01-01 00:31:49   2021-01-01 00:48:21              1.0   \n",
       "\n",
       "   trip_distance  RatecodeID store_and_fwd_flag  PULocationID  DOLocationID  \\\n",
       "0           2.10         1.0                  N           142            43   \n",
       "1           0.20         1.0                  N           238           151   \n",
       "2          14.70         1.0                  N           132           165   \n",
       "3          10.60         1.0                  N           138           132   \n",
       "4           4.94         1.0                  N            68            33   \n",
       "\n",
       "   payment_type  fare_amount  extra  mta_tax  tip_amount  tolls_amount  \\\n",
       "0           2.0          8.0    3.0      0.5        0.00           0.0   \n",
       "1           2.0          3.0    0.5      0.5        0.00           0.0   \n",
       "2           1.0         42.0    0.5      0.5        8.65           0.0   \n",
       "3           1.0         29.0    0.5      0.5        6.05           0.0   \n",
       "4           1.0         16.5    0.5      0.5        4.06           0.0   \n",
       "\n",
       "   improvement_surcharge  total_amount  congestion_surcharge  day  \n",
       "0                    0.3         11.80                   2.5  Fri  \n",
       "1                    0.3          4.30                   0.0  Fri  \n",
       "2                    0.3         51.95                   0.0  Fri  \n",
       "3                    0.3         36.35                   0.0  Fri  \n",
       "4                    0.3         24.36                   2.5  Fri  "
      ]
     },
     "execution_count": 12,
     "metadata": {},
     "output_type": "execute_result"
    }
   ],
   "source": [
    "# Convert date column to datetime format to get the actual days of the trip\n",
    "yellow_cab['tpep_pickup_datetime'] = pd.to_datetime(yellow_cab['tpep_pickup_datetime'])\n",
    "day_names = ['Mon', 'Tues', 'Wed', 'Thurs', 'Fri', 'Sat', 'Sun']\n",
    "days = [day_names[day.weekday()] for day in yellow_cab['tpep_pickup_datetime']]\n",
    "yellow_cab['day'] = days\n",
    "yellow_cab.head()"
   ]
  },
  {
   "cell_type": "markdown",
   "metadata": {},
   "source": [
    "Now, I want to calculate the average fare for each day of the month."
   ]
  },
  {
   "cell_type": "code",
   "execution_count": 13,
   "metadata": {},
   "outputs": [
    {
     "name": "stdout",
     "output_type": "stream",
     "text": [
      "The average fare for Mon was $17.72.\n",
      "The average fare for Tues was $17.32.\n",
      "The average fare for Wed was $17.07.\n",
      "The average fare for Thurs was $17.36.\n",
      "The average fare for Fri was $17.39.\n",
      "The average fare for Sat was $17.36.\n",
      "The average fare for Sun was $18.39.\n"
     ]
    }
   ],
   "source": [
    "for day in day_names:\n",
    "    avg_fare = yellow_cab[yellow_cab['day']==day]['total_amount'].mean()\n",
    "    print(f'The average fare for {day} was ${avg_fare:.2f}.')"
   ]
  },
  {
   "cell_type": "markdown",
   "metadata": {},
   "source": [
    "Sunday was the most expensive day for this month. \n",
    "\n",
    "Now that I have figured out how to obtain this data for a single month, I will iterate this for each month and then visualize the data. I will write a function to help automate this. "
   ]
  },
  {
   "cell_type": "code",
   "execution_count": 96,
   "metadata": {},
   "outputs": [],
   "source": [
    "# This function will take a filename and return all the stats calculate before for a month's dataset.\n",
    "def get_stats(filename):\n",
    "    \n",
    "    # load data\n",
    "    df = pd.read_csv('data/'+filename, low_memory=False)\n",
    "    \n",
    "    # for debugging\n",
    "    if 'fhv' in filename:\n",
    "        print(filename)\n",
    "\n",
    "    # load zone lookup table\n",
    "    zones = pd.read_csv('https://s3.amazonaws.com/nyc-tlc/misc/taxi+_zone_lookup.csv')\n",
    "\n",
    "    stats = pd.DataFrame()\n",
    "    \n",
    "    if 'yellow' in filename or 'green' in filename:\n",
    "        df = df[df['PULocationID'] < 264] # Get rid of N/A zones\n",
    "        df = df[df['DOLocationID'] < 264] # Get rid of N/A zones\n",
    "        df = df[df['payment_type'] < 3].reset_index(drop=True) # Get rid of non-payments\n",
    "        \n",
    "        # Calculate Max fare info\n",
    "        stats['max_fare'] = [float(df['total_amount'].max())]\n",
    "        index = df['total_amount'].idxmax()\n",
    "        PULocationID_max = df.iloc[index]['PULocationID']\n",
    "        DOLocationID_max = df.iloc[index]['DOLocationID']\n",
    "        stats['PU_zone_name_max'] = [zones.loc[PULocationID_max]['Zone']]\n",
    "        stats['DO_zone_name_max'] = [zones.loc[DOLocationID_max]['Zone']]\n",
    "\n",
    "        # Calculate Min fare info\n",
    "        stats['min_fare'] = [df[df['total_amount'] >= 2.5]['total_amount'].min()]\n",
    "        index = df['total_amount'].idxmin()\n",
    "        PULocationID_min = df.iloc[index]['PULocationID']\n",
    "        DOLocationID_min = df.iloc[index]['DOLocationID']\n",
    "        stats['PU_zone_name_min'] = [zones.loc[PULocationID_min]['Zone']]\n",
    "        stats['DO_zone_name_min'] = [zones.loc[DOLocationID_min]['Zone']]\n",
    "\n",
    "        # Calculate month's total rake\n",
    "        stats['sum_fares'] = [df['total_amount'].sum()]\n",
    "\n",
    "        # Filter for payment types 1 and 2 and then count each\n",
    "        stats['num_ccs'] = [df[df['payment_type']==1]['payment_type'].count()]\n",
    "        stats['num_cash'] = [df[df['payment_type']==2]['payment_type'].count()]\n",
    "    \n",
    "    # Calculate averages for each day of the week\n",
    "    day_names = ['Mon', 'Tues', 'Wed', 'Thurs', 'Fri', 'Sat', 'Sun']\n",
    "    \n",
    "    # Have to take into account different columns names for the different sources\n",
    "    if 'yellow' in filename:\n",
    "        df['tpep_pickup_datetime'] = pd.to_datetime(df['tpep_pickup_datetime'])\n",
    "        days = [day_names[day.weekday()] for day in df['tpep_pickup_datetime']]\n",
    "    elif 'green' in filename:\n",
    "        df['lpep_pickup_datetime'] = pd.to_datetime(df['lpep_pickup_datetime'])\n",
    "        days = [day_names[day.weekday()] for day in df['lpep_pickup_datetime']]\n",
    "    else:\n",
    "        df = df.dropna(subset=['pickup_datetime'])\n",
    "        df['pickup_datetime'] = pd.to_datetime(df['pickup_datetime'])\n",
    "        days = [day_names[day.weekday()] for day in df['pickup_datetime']]    \n",
    "    \n",
    "    df['day'] = days\n",
    "\n",
    "    \n",
    "    day_avgs = []\n",
    "    day_counts = []\n",
    "    \n",
    "    for day in day_names:\n",
    "        if 'yellow' in filename or 'green' in filename:\n",
    "            avg_fare = df[df['day']==day]['total_amount'].mean()\n",
    "            day_avgs.append(avg_fare)\n",
    "            stats['day_avgs']  = [day_avgs]\n",
    "        else:\n",
    "            count_fare = df[df['day']==day]['pickup_datetime'].count()\n",
    "            day_counts.append(count_fare)\n",
    "            stats['day_counts']  = [count_fare]\n",
    "    \n",
    "    return stats\n",
    "    "
   ]
  },
  {
   "cell_type": "markdown",
   "metadata": {},
   "source": [
    "Compiling the statistics now for all the yellow cab data:"
   ]
  },
  {
   "cell_type": "code",
   "execution_count": 99,
   "metadata": {},
   "outputs": [
    {
     "data": {
      "text/html": [
       "<div>\n",
       "<style scoped>\n",
       "    .dataframe tbody tr th:only-of-type {\n",
       "        vertical-align: middle;\n",
       "    }\n",
       "\n",
       "    .dataframe tbody tr th {\n",
       "        vertical-align: top;\n",
       "    }\n",
       "\n",
       "    .dataframe thead th {\n",
       "        text-align: right;\n",
       "    }\n",
       "</style>\n",
       "<table border=\"1\" class=\"dataframe\">\n",
       "  <thead>\n",
       "    <tr style=\"text-align: right;\">\n",
       "      <th></th>\n",
       "      <th>max_fare</th>\n",
       "      <th>PU_zone_name_max</th>\n",
       "      <th>DO_zone_name_max</th>\n",
       "      <th>min_fare</th>\n",
       "      <th>PU_zone_name_min</th>\n",
       "      <th>DO_zone_name_min</th>\n",
       "      <th>sum_fares</th>\n",
       "      <th>num_ccs</th>\n",
       "      <th>num_cash</th>\n",
       "      <th>day_avgs</th>\n",
       "    </tr>\n",
       "  </thead>\n",
       "  <tbody>\n",
       "    <tr>\n",
       "      <th>0</th>\n",
       "      <td>7661.28</td>\n",
       "      <td>Lenox Hill West</td>\n",
       "      <td>Upper East Side South</td>\n",
       "      <td>2.5</td>\n",
       "      <td>Kensington</td>\n",
       "      <td>Kensington</td>\n",
       "      <td>20337832.22</td>\n",
       "      <td>923615</td>\n",
       "      <td>317996</td>\n",
       "      <td>[16.515076701184835, 16.097442475670412, 15.93...</td>\n",
       "    </tr>\n",
       "    <tr>\n",
       "      <th>0</th>\n",
       "      <td>6969.30</td>\n",
       "      <td>Midtown East</td>\n",
       "      <td>Two Bridges/Seward Park</td>\n",
       "      <td>2.5</td>\n",
       "      <td>Astoria Park</td>\n",
       "      <td>Astoria Park</td>\n",
       "      <td>20581962.71</td>\n",
       "      <td>939415</td>\n",
       "      <td>304856</td>\n",
       "      <td>[16.378399147558518, 16.381276154527242, 16.69...</td>\n",
       "    </tr>\n",
       "    <tr>\n",
       "      <th>0</th>\n",
       "      <td>6010.80</td>\n",
       "      <td>Upper West Side South</td>\n",
       "      <td>Central Harlem North</td>\n",
       "      <td>2.5</td>\n",
       "      <td>Laurelton</td>\n",
       "      <td>Laurelton</td>\n",
       "      <td>29301287.06</td>\n",
       "      <td>1331089</td>\n",
       "      <td>425475</td>\n",
       "      <td>[16.636681144482775, 16.496921545365453, 16.47...</td>\n",
       "    </tr>\n",
       "    <tr>\n",
       "      <th>0</th>\n",
       "      <td>2059.30</td>\n",
       "      <td>Yorkville West</td>\n",
       "      <td>Yorkville West</td>\n",
       "      <td>2.5</td>\n",
       "      <td>University Heights/Morris Heights</td>\n",
       "      <td>East Concourse/Concourse Village</td>\n",
       "      <td>34830185.40</td>\n",
       "      <td>1534333</td>\n",
       "      <td>463029</td>\n",
       "      <td>[17.481425546301512, 17.35579707665767, 17.220...</td>\n",
       "    </tr>\n",
       "    <tr>\n",
       "      <th>0</th>\n",
       "      <td>1165.30</td>\n",
       "      <td>Marine Park/Mill Basin</td>\n",
       "      <td>Brighton Beach</td>\n",
       "      <td>2.5</td>\n",
       "      <td>East Concourse/Concourse Village</td>\n",
       "      <td>East Concourse/Concourse Village</td>\n",
       "      <td>42215363.41</td>\n",
       "      <td>1809267</td>\n",
       "      <td>521178</td>\n",
       "      <td>[18.283418543805897, 17.768654668323805, 17.91...</td>\n",
       "    </tr>\n",
       "  </tbody>\n",
       "</table>\n",
       "</div>"
      ],
      "text/plain": [
       "   max_fare        PU_zone_name_max         DO_zone_name_max  min_fare  \\\n",
       "0   7661.28         Lenox Hill West    Upper East Side South       2.5   \n",
       "0   6969.30            Midtown East  Two Bridges/Seward Park       2.5   \n",
       "0   6010.80   Upper West Side South     Central Harlem North       2.5   \n",
       "0   2059.30          Yorkville West           Yorkville West       2.5   \n",
       "0   1165.30  Marine Park/Mill Basin           Brighton Beach       2.5   \n",
       "\n",
       "                    PU_zone_name_min                  DO_zone_name_min  \\\n",
       "0                         Kensington                        Kensington   \n",
       "0                       Astoria Park                      Astoria Park   \n",
       "0                          Laurelton                         Laurelton   \n",
       "0  University Heights/Morris Heights  East Concourse/Concourse Village   \n",
       "0   East Concourse/Concourse Village  East Concourse/Concourse Village   \n",
       "\n",
       "     sum_fares  num_ccs  num_cash  \\\n",
       "0  20337832.22   923615    317996   \n",
       "0  20581962.71   939415    304856   \n",
       "0  29301287.06  1331089    425475   \n",
       "0  34830185.40  1534333    463029   \n",
       "0  42215363.41  1809267    521178   \n",
       "\n",
       "                                            day_avgs  \n",
       "0  [16.515076701184835, 16.097442475670412, 15.93...  \n",
       "0  [16.378399147558518, 16.381276154527242, 16.69...  \n",
       "0  [16.636681144482775, 16.496921545365453, 16.47...  \n",
       "0  [17.481425546301512, 17.35579707665767, 17.220...  \n",
       "0  [18.283418543805897, 17.768654668323805, 17.91...  "
      ]
     },
     "execution_count": 99,
     "metadata": {},
     "output_type": "execute_result"
    }
   ],
   "source": [
    "yellow_files = file_info[file_info['source']=='yellow']['filename'].reset_index(drop=True)\n",
    "yellow_stats = get_stats(yellow_files[0])\n",
    "\n",
    "for file in yellow_files[1:]:\n",
    "    yellow_stats = yellow_stats.append(get_stats(file))\n",
    "\n",
    "yellow_stats.head()"
   ]
  },
  {
   "cell_type": "code",
   "execution_count": 100,
   "metadata": {},
   "outputs": [],
   "source": [
    "yellow_file_data = file_info[file_info['source']=='yellow'].reset_index(drop=True)\n",
    "yellow_stats = yellow_stats.reset_index(drop=True).join(yellow_file_data)\n",
    "yellow_stats.to_csv('yellow_stats.csv', index=False)"
   ]
  },
  {
   "cell_type": "markdown",
   "metadata": {},
   "source": [
    "And now the green data:"
   ]
  },
  {
   "cell_type": "code",
   "execution_count": 97,
   "metadata": {},
   "outputs": [
    {
     "data": {
      "text/html": [
       "<div>\n",
       "<style scoped>\n",
       "    .dataframe tbody tr th:only-of-type {\n",
       "        vertical-align: middle;\n",
       "    }\n",
       "\n",
       "    .dataframe tbody tr th {\n",
       "        vertical-align: top;\n",
       "    }\n",
       "\n",
       "    .dataframe thead th {\n",
       "        text-align: right;\n",
       "    }\n",
       "</style>\n",
       "<table border=\"1\" class=\"dataframe\">\n",
       "  <thead>\n",
       "    <tr style=\"text-align: right;\">\n",
       "      <th></th>\n",
       "      <th>max_fare</th>\n",
       "      <th>PU_zone_name_max</th>\n",
       "      <th>DO_zone_name_max</th>\n",
       "      <th>min_fare</th>\n",
       "      <th>PU_zone_name_min</th>\n",
       "      <th>DO_zone_name_min</th>\n",
       "      <th>sum_fares</th>\n",
       "      <th>num_ccs</th>\n",
       "      <th>num_cash</th>\n",
       "      <th>day_avgs</th>\n",
       "    </tr>\n",
       "  </thead>\n",
       "  <tbody>\n",
       "    <tr>\n",
       "      <th>0</th>\n",
       "      <td>293.50</td>\n",
       "      <td>Stapleton</td>\n",
       "      <td>Stapleton</td>\n",
       "      <td>2.50</td>\n",
       "      <td>Corona</td>\n",
       "      <td>Norwood</td>\n",
       "      <td>692416.19</td>\n",
       "      <td>24060</td>\n",
       "      <td>15489</td>\n",
       "      <td>[17.52057696030978, 17.790914950760968, 17.809...</td>\n",
       "    </tr>\n",
       "    <tr>\n",
       "      <th>0</th>\n",
       "      <td>207.20</td>\n",
       "      <td>Corona</td>\n",
       "      <td>Broad Channel</td>\n",
       "      <td>3.30</td>\n",
       "      <td>Randalls Island</td>\n",
       "      <td>Randalls Island</td>\n",
       "      <td>626725.24</td>\n",
       "      <td>21591</td>\n",
       "      <td>13119</td>\n",
       "      <td>[17.99955420466059, 18.147730086669416, 18.567...</td>\n",
       "    </tr>\n",
       "    <tr>\n",
       "      <th>0</th>\n",
       "      <td>483.06</td>\n",
       "      <td>DUMBO/Vinegar Hill</td>\n",
       "      <td>East Flatbush/Remsen Village</td>\n",
       "      <td>3.05</td>\n",
       "      <td>Astoria Park</td>\n",
       "      <td>Astoria Park</td>\n",
       "      <td>759199.92</td>\n",
       "      <td>25413</td>\n",
       "      <td>16918</td>\n",
       "      <td>[18.300199549887473, 18.190173640762882, 18.02...</td>\n",
       "    </tr>\n",
       "    <tr>\n",
       "      <th>0</th>\n",
       "      <td>411.04</td>\n",
       "      <td>Central Park</td>\n",
       "      <td>Stapleton</td>\n",
       "      <td>2.80</td>\n",
       "      <td>West Brighton</td>\n",
       "      <td>East Elmhurst</td>\n",
       "      <td>834182.72</td>\n",
       "      <td>26871</td>\n",
       "      <td>18037</td>\n",
       "      <td>[18.90855790741697, 18.977560429005926, 18.606...</td>\n",
       "    </tr>\n",
       "    <tr>\n",
       "      <th>0</th>\n",
       "      <td>2113.55</td>\n",
       "      <td>Bedford Park</td>\n",
       "      <td>Far Rockaway</td>\n",
       "      <td>2.50</td>\n",
       "      <td>Crown Heights North</td>\n",
       "      <td>Seaport</td>\n",
       "      <td>921321.90</td>\n",
       "      <td>30398</td>\n",
       "      <td>18978</td>\n",
       "      <td>[18.573577958027553, 19.357118978878592, 18.82...</td>\n",
       "    </tr>\n",
       "  </tbody>\n",
       "</table>\n",
       "</div>"
      ],
      "text/plain": [
       "   max_fare    PU_zone_name_max              DO_zone_name_max  min_fare  \\\n",
       "0    293.50           Stapleton                     Stapleton      2.50   \n",
       "0    207.20              Corona                 Broad Channel      3.30   \n",
       "0    483.06  DUMBO/Vinegar Hill  East Flatbush/Remsen Village      3.05   \n",
       "0    411.04        Central Park                     Stapleton      2.80   \n",
       "0   2113.55        Bedford Park                  Far Rockaway      2.50   \n",
       "\n",
       "      PU_zone_name_min DO_zone_name_min  sum_fares  num_ccs  num_cash  \\\n",
       "0               Corona          Norwood  692416.19    24060     15489   \n",
       "0      Randalls Island  Randalls Island  626725.24    21591     13119   \n",
       "0         Astoria Park     Astoria Park  759199.92    25413     16918   \n",
       "0        West Brighton    East Elmhurst  834182.72    26871     18037   \n",
       "0  Crown Heights North          Seaport  921321.90    30398     18978   \n",
       "\n",
       "                                            day_avgs  \n",
       "0  [17.52057696030978, 17.790914950760968, 17.809...  \n",
       "0  [17.99955420466059, 18.147730086669416, 18.567...  \n",
       "0  [18.300199549887473, 18.190173640762882, 18.02...  \n",
       "0  [18.90855790741697, 18.977560429005926, 18.606...  \n",
       "0  [18.573577958027553, 19.357118978878592, 18.82...  "
      ]
     },
     "execution_count": 97,
     "metadata": {},
     "output_type": "execute_result"
    }
   ],
   "source": [
    "green_files = file_info[file_info['source']=='green']['filename'].reset_index(drop=True)\n",
    "green_stats = get_stats(green_files[0])\n",
    "\n",
    "for file in green_files[1:]:\n",
    "    green_stats = green_stats.append(get_stats(file))\n",
    "    \n",
    "green_stats.head()"
   ]
  },
  {
   "cell_type": "code",
   "execution_count": 98,
   "metadata": {},
   "outputs": [],
   "source": [
    "green_file_data = file_info[file_info['source']=='green'].reset_index(drop=True)\n",
    "green_stats = green_stats.reset_index(drop=True).join(green_file_data)\n",
    "green_stats.to_csv('green_stats.csv', index=False)"
   ]
  },
  {
   "cell_type": "markdown",
   "metadata": {},
   "source": [
    "I chose not to use the FHV and FHV High Volume data since it does not contain fare information, which is necessary to calculare any of information I found for the yellow and green cabs. The next notebook is for visualizing this data, which can be found [HERE](Visualizations.ipynb). "
   ]
  }
 ],
 "metadata": {
  "kernelspec": {
   "display_name": "Python 3",
   "language": "python",
   "name": "python3"
  },
  "language_info": {
   "codemirror_mode": {
    "name": "ipython",
    "version": 3
   },
   "file_extension": ".py",
   "mimetype": "text/x-python",
   "name": "python",
   "nbconvert_exporter": "python",
   "pygments_lexer": "ipython3",
   "version": "3.6.9"
  }
 },
 "nbformat": 4,
 "nbformat_minor": 4
}
